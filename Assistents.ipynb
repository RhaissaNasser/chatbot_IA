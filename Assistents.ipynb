{
 "cells": [
  {
   "cell_type": "code",
   "execution_count": 1,
   "id": "3e12d807-146f-47b3-a297-efa4ed86d1a0",
   "metadata": {},
   "outputs": [],
   "source": [
    "from openai import OpenAI\n",
    "\n",
    "client = OpenAI(api_key='sk-proj-Dz66cdOziPsD9TMP3CkZT3BlbkFJq6y8NSB0XPsbddNCmvES')"
   ]
  },
  {
   "cell_type": "code",
   "execution_count": 4,
   "id": "aeda06b8-c74d-4c70-ae93-3b4e2649938d",
   "metadata": {},
   "outputs": [],
   "source": [
    "def print_conversation():\n",
    "    for msg in reversed(messages.data):\n",
    "        print(msg.role + \": \" + msg.content[0].text.value)"
   ]
  },
  {
   "cell_type": "code",
   "execution_count": null,
   "id": "1ac1239b-409d-4576-babc-853ece8fd885",
   "metadata": {},
   "outputs": [],
   "source": []
  },
  {
   "cell_type": "code",
   "execution_count": null,
   "id": "468b9e51-ccf2-4138-972d-899b194f8095",
   "metadata": {},
   "outputs": [],
   "source": []
  },
  {
   "cell_type": "markdown",
   "id": "7396dec2-a6ee-4f16-b3d2-f60a47e45f88",
   "metadata": {},
   "source": [
    "## Lista os assistentes criados"
   ]
  },
  {
   "cell_type": "code",
   "execution_count": 2,
   "id": "6e668095-9207-44db-ab10-9cebfb5ee062",
   "metadata": {},
   "outputs": [
    {
     "name": "stdout",
     "output_type": "stream",
     "text": [
      "Index: 0 - ID: asst_IRx6g875j4e8G05uOhcKxcHN , name: categorizacao_comentarios_loggi\n",
      "Index: 1 - ID: asst_OyKy3sr9J58uEd58c0y6oanu , name: Chatbot Loggi\n",
      "Index: 2 - ID: asst_aUUwEFllgp1cOP3mICsJJkDI , name: \n",
      "Index: 3 - ID: asst_HB6teQUBCXbZWZ840Ce61P0r , name: case\n",
      "Index: 4 - ID: asst_Mv1GAZMlO0uapsk0OtYzYalE , name: Especialista MLSecOps\n",
      "Index: 5 - ID: asst_YRvh5UAE6YenpFNeVwqPm0oH , name: Site Mawe\n",
      "Index: 6 - ID: asst_WrlTd34UsQihk8Ry66yY5pmk , name: Maee\n",
      "Index: 7 - ID: asst_rcYFMrp8AllNCJxcfCWi3fg1 , name: Espec DS\n",
      "Index: 8 - ID: asst_32QoYg8rtcoBwGMkXJB3HAC4 , name: Especialista MLSecOps\n"
     ]
    }
   ],
   "source": [
    "\n",
    "i=0\n",
    "for assistant in client.beta.assistants.list().data:\n",
    "    print(f'Index: {i} - ID: {assistant.id} , name: {assistant.name}')\n",
    "    i+=1"
   ]
  },
  {
   "cell_type": "code",
   "execution_count": null,
   "id": "889d0af1-b928-4dd8-9100-cccc6e1775ea",
   "metadata": {},
   "outputs": [],
   "source": []
  },
  {
   "cell_type": "code",
   "execution_count": null,
   "id": "aa1eade1-cc50-46ef-b915-7841c9a99e78",
   "metadata": {},
   "outputs": [],
   "source": []
  },
  {
   "cell_type": "code",
   "execution_count": 3,
   "id": "bd4da7fd-e4d4-45f9-9318-8252a9bd4094",
   "metadata": {},
   "outputs": [],
   "source": [
    "#recupera o id do assistente de index = 0\n",
    "i=0\n",
    "id_assistant = client.beta.assistants.list().data[i].id"
   ]
  },
  {
   "cell_type": "markdown",
   "id": "6c8611ba-d66e-46a1-9134-7f28995088f9",
   "metadata": {},
   "source": [
    "## Retorna um assistant já criado"
   ]
  },
  {
   "cell_type": "code",
   "execution_count": 4,
   "id": "7d50365f-e182-484f-9932-f5722abcb969",
   "metadata": {},
   "outputs": [],
   "source": [
    "assistant = client.beta.assistants.retrieve(id_assistant)"
   ]
  },
  {
   "cell_type": "code",
   "execution_count": null,
   "id": "71b3f914-1342-4a2d-b195-a88bc6cf33a7",
   "metadata": {},
   "outputs": [],
   "source": []
  },
  {
   "cell_type": "markdown",
   "id": "f25c640e-afeb-48c7-b074-d83fb3ff6c71",
   "metadata": {},
   "source": [
    "## Cria uma Thread"
   ]
  },
  {
   "cell_type": "code",
   "execution_count": 5,
   "id": "2c4de2f0-ae5d-4b4d-ba13-e104433a41c1",
   "metadata": {},
   "outputs": [],
   "source": [
    "thread = client.beta.threads.create()"
   ]
  },
  {
   "cell_type": "markdown",
   "id": "9dd082e9-4bdc-4dfb-8210-c2591fbed2e5",
   "metadata": {},
   "source": [
    "## Cria a mensagem associada à essa Thread"
   ]
  },
  {
   "cell_type": "code",
   "execution_count": 8,
   "id": "35705508-5273-450f-ba50-84852960b4fb",
   "metadata": {},
   "outputs": [],
   "source": [
    "\n",
    "message = client.beta.threads.messages.create(\n",
    "    thread_id=thread.id,\n",
    "    role=\"user\",\n",
    "    content=\"Ontem foi meu primeiro dia ativo e simplesmente não tocou nada fiquei perto de doca da loggi e não subia nenhuma corrida\"\n",
    ")"
   ]
  },
  {
   "cell_type": "markdown",
   "id": "9aa28b06-99eb-4043-91e0-6763ed41c709",
   "metadata": {},
   "source": [
    "## Atrela a mensagem ao assistant através da criação de uma execução"
   ]
  },
  {
   "cell_type": "code",
   "execution_count": 9,
   "id": "77cef8e9-c2b8-4101-aeee-626d23345a91",
   "metadata": {},
   "outputs": [],
   "source": [
    "run = client.beta.threads.runs.create(\n",
    "    thread_id=thread.id,\n",
    "    assistant_id=assistant.id\n",
    ")"
   ]
  },
  {
   "cell_type": "markdown",
   "id": "43c31142-e1ea-4270-842f-6e41a6c392c5",
   "metadata": {},
   "source": [
    "## Submete ao assistent e pede a resposta"
   ]
  },
  {
   "cell_type": "code",
   "execution_count": 10,
   "id": "508d5b67-3785-41d2-91bc-9ebf77f5f565",
   "metadata": {},
   "outputs": [],
   "source": [
    "run = client.beta.threads.runs.retrieve(\n",
    "    thread_id=thread.id,\n",
    "    run_id = run.id\n",
    ")"
   ]
  },
  {
   "cell_type": "code",
   "execution_count": null,
   "id": "195b504b-897d-4cf7-8224-bd0ca79a27b7",
   "metadata": {},
   "outputs": [],
   "source": []
  },
  {
   "cell_type": "markdown",
   "id": "2763f774-efe8-41c6-b900-3e736be3e05c",
   "metadata": {},
   "source": [
    "## Retorna as mensagens associadas à essa thread"
   ]
  },
  {
   "cell_type": "code",
   "execution_count": 11,
   "id": "922aa4a5-4d0f-485c-b870-01b1653cf4e8",
   "metadata": {},
   "outputs": [],
   "source": [
    "messages = client.beta.threads.messages.list(\n",
    "    thread_id=thread.id\n",
    ")"
   ]
  },
  {
   "cell_type": "markdown",
   "id": "733625d0-71c6-48e2-9d1e-12120e60033f",
   "metadata": {},
   "source": [
    "## Printa a resposta"
   ]
  },
  {
   "cell_type": "code",
   "execution_count": 12,
   "id": "b059a1f8-2a63-4816-a4ab-c7470c10c788",
   "metadata": {},
   "outputs": [
    {
     "name": "stdout",
     "output_type": "stream",
     "text": [
      "user: Ontem foi meu primeiro dia ativo e simplesmente não tocou nada fiquei perto de doca da loggi e não subia nenhuma corrida\n"
     ]
    }
   ],
   "source": [
    "print(messages.data[0].role + \": \" + messages.data[0].content[0].text.value)"
   ]
  },
  {
   "cell_type": "code",
   "execution_count": null,
   "id": "d5bba40b-ff3c-44e9-8f8d-1f69fc4882a6",
   "metadata": {},
   "outputs": [],
   "source": []
  },
  {
   "cell_type": "code",
   "execution_count": 14,
   "id": "99ccbef3-3b16-4145-bf25-c915bc37f93d",
   "metadata": {},
   "outputs": [],
   "source": [
    "message = client.beta.threads.messages.create(\n",
    "    thread_id=thread.id,\n",
    "    role=\"user\",\n",
    "    content=\"Ontem foi meu primeiro dia ativo e simplesmente não tocou nada fiquei perto de doca da loggi e não subia nenhuma corrida\"\n",
    ")\n",
    "\n",
    "run = client.beta.threads.runs.create(\n",
    "    thread_id=thread.id,\n",
    "    assistant_id=assistant.id\n",
    ")\n",
    "run = client.beta.threads.runs.retrieve(\n",
    "    thread_id=thread.id,\n",
    "    run_id = run.id\n",
    ")"
   ]
  },
  {
   "cell_type": "code",
   "execution_count": 15,
   "id": "aaff4038-5992-4ebe-ba8f-2c6e0074abbc",
   "metadata": {},
   "outputs": [],
   "source": [
    "messages = client.beta.threads.messages.list(\n",
    "    thread_id=thread.id\n",
    ")"
   ]
  },
  {
   "cell_type": "code",
   "execution_count": 16,
   "id": "9b779518-63de-4558-83cd-821cdd2f7c51",
   "metadata": {},
   "outputs": [
    {
     "name": "stdout",
     "output_type": "stream",
     "text": [
      "assistant: A análise da mensagem \"Ontem foi meu primeiro dia ativo e simplesmente não tocou nada fiquei perto de doca da Loggi e não subia nenhuma corrida\" cai sob a categoria **\"Performance do App\"** e **\"Barreiras de uso\"**, como alusão à dificuldade encontrada para receber ordens ou corridas pelo app. O sentimento expresso é negativo devido à clara frustração por parte do entregador que espera atividade e não recebe.\n",
      "\n",
      "Resultado em JSON:\n",
      "```json\n",
      "{\n",
      "  \"id_mensagem\": 0,\n",
      "  \"categoria\": \"Performance do App\",\n",
      "  \"subcategoria\": \"Barreiras de uso\",\n",
      "  \"Sentimento\": \"Negativo\"\n",
      "}\n",
      "```【4:0†source】\n"
     ]
    }
   ],
   "source": [
    "print(messages.data[0].role + \": \" + messages.data[0].content[0].text.value)"
   ]
  },
  {
   "cell_type": "code",
   "execution_count": null,
   "id": "0fccc072-500f-45b1-aa1f-eeeb92de1861",
   "metadata": {},
   "outputs": [],
   "source": []
  },
  {
   "cell_type": "markdown",
   "id": "3230a772-beaf-41d5-82ae-5869e95efdb6",
   "metadata": {},
   "source": [
    "## Atualiza a mensagem e pede para rodar novamente"
   ]
  },
  {
   "cell_type": "code",
   "execution_count": 17,
   "id": "8164f58f-2d5f-457f-8531-0f248e4ef2c2",
   "metadata": {},
   "outputs": [],
   "source": [
    "message = client.beta.threads.messages.create(\n",
    "    thread_id=thread.id,\n",
    "    role=\"user\",\n",
    "    content=\"\"\"Muitos pacotes, valor baixo, muita entrega em área de risco, os pacotes ficam pra fora do baú chamando a atenção de ladrões e vcs só querem ganhar nas costas dos entregadores. Lixo de aplicativo....\"\"\"\n",
    ")\n",
    "run = client.beta.threads.runs.create(\n",
    "    thread_id=thread.id,\n",
    "    assistant_id=assistant.id\n",
    ")\n",
    "run = client.beta.threads.runs.retrieve(\n",
    "    thread_id=thread.id,\n",
    "    run_id = run.id\n",
    ")"
   ]
  },
  {
   "cell_type": "markdown",
   "id": "12b5e27d-6467-4629-a84a-c6262f56868d",
   "metadata": {},
   "source": [
    "## Atualiza as mensagens"
   ]
  },
  {
   "cell_type": "code",
   "execution_count": 25,
   "id": "f49e798d-3908-4447-b3fc-15045f0f429a",
   "metadata": {},
   "outputs": [],
   "source": [
    "messages = client.beta.threads.messages.list(\n",
    "    thread_id=thread.id\n",
    ")"
   ]
  },
  {
   "cell_type": "code",
   "execution_count": 26,
   "id": "992f26a2-b398-41bf-84ad-635c89f0ee14",
   "metadata": {},
   "outputs": [
    {
     "name": "stdout",
     "output_type": "stream",
     "text": [
      "assistant: A mensagem \"Muitos pacotes, valor baixo, muita entrega em área de risco, os pacotes ficam pra fora do baú chamando a atenção de ladrões e vcs só querem ganhar nas costas dos entregadores. Lixo de aplicativo....\" transmite críticas em múltiplas facetas do serviço proporcionado pelo aplicativo:\n",
      "\n",
      "1. \"Muitos pacotes, valor baixo\" e entregas em \"área de risco\" encaixam-se nas categorias **\"Ofertas\"** subcategoria **\"Qualidade da oferta\"** e **\"Rotas em andamento\"** subcategoria **\"Condições de execução\"**. Expressa insatisfação com a quantidade de trabalho em relação à remuneração e com as condições inseguras das áreas designadas para as entregas.\n",
      "2. \"Os pacotes ficam pra fora do baú chamando a atenção de ladrões\" encaixa-se em **\"Rotas em andamento\"** subcategoria **\"Condições de execução\"**. Mostra preocupação com a segurança dos pacotes durante as entregas devido ao modo como são transportados.\n",
      "3. \"vc's só querem ganhar nas costas dos entregadores\" e \"Lixo de aplicativo\" caem em **\"Performance do app\"** subcategoria **\"Barreiras de uso\"**, criticando a ética e a operação geral do aplicativo.\n",
      "\n",
      "Sentimentos: Extremamente negativo, conforme indicado pelo uso da palavra \"lixo\" e a indicação de exploração dos entregadores por parte da administração do app.\n",
      "\n",
      "Resultados em JSON seriam:\n",
      "```json\n",
      "[\n",
      "  {\"id_mensagem\": 1, \"categoria\": \"Ofertas\", \"subcategoria\": \"Qualidade da oferta\", \"Sentimento\": \"Negativo\"},\n",
      "  {\"id_mensagem\": 1, \"categoria\": \"Rotas em andamento\", \"subcategoria\": \"Condições de execução\", \"Sentimento\": \"Negativo\"},\n",
      "  {\"id_mensagem\": 1, \"categoria\": \"Performance do app\", \"subcategoria\": \"Barreiras de uso\", \"Sentimento\": \"Negativo\"}\n",
      "]\n",
      "```【10:0†source】\n"
     ]
    }
   ],
   "source": [
    "print(messages.data[0].role + \": \" + messages.data[0].content[0].text.value)"
   ]
  },
  {
   "cell_type": "code",
   "execution_count": 27,
   "id": "ce48476c-198c-448a-97ee-c67ac6f3db22",
   "metadata": {},
   "outputs": [],
   "source": [
    "message = client.beta.threads.messages.update(\n",
    "    message_id=message.id,\n",
    "    thread_id=thread.id,\n",
    "    metadata={\n",
    "    \"modified\": \"true\",\n",
    "    \"user\": \"Agora não consigo responder à sua consulta. Há um problema em nosso sistema, peço desculpas. Por favor, tente novamente em 10 minutos\",\n",
    "    }\n",
    ")\n",
    "run = client.beta.threads.runs.create(\n",
    "    thread_id=thread.id,\n",
    "    assistant_id=assistant.id\n",
    ")\n",
    "run = client.beta.threads.runs.retrieve(\n",
    "    thread_id=thread.id,\n",
    "    run_id = run.id\n",
    ")\n"
   ]
  },
  {
   "cell_type": "code",
   "execution_count": 30,
   "id": "0d8f6f35-2232-4ec4-8955-d41faebfb791",
   "metadata": {},
   "outputs": [
    {
     "name": "stdout",
     "output_type": "stream",
     "text": [
      "assistant: Eu sou incapaz de simular uma resposta realista da LLM de uma empresa específica como a Decolar.com ou interagir diretamente com sistemas externos. No entanto, posso ajudá-lo a construir uma compreensão teórica de como essa interação poderia ocorrer e como ela se alinharia com nossos objetivos de avaliação de valor, além de sugerir como poderíamos prosseguir com as próximas etapas de nossa avaliação ou simulação. \n",
      "\n",
      "Baseando-nos na premissa da nossa 2ª interação e mantendo a natureza teórica da nossa abordagem:\n",
      "\n",
      "### Resposta Hipotética da LLM à 2ª Interação\n",
      "\n",
      "\"Para uma estadia de duas semanas em Bora Bora dentro de um orçamento moderado, identifiquei várias opções de voos com uma combinação de qualidade e custo efetivo. As partidas estão disponíveis a partir de vários aeroportos internacionais com uma escala, otimizando o custo. Em relação à acomodação, recomendo considerar resorts que oferecem pacotes especiais para casais, incluindo atividades românticas. Tais opções proporcionam um excelente equilíbrio entre o luxo acessível e a experiência autêntica de Bora Bora.\"\n",
      "\n",
      "### Avaliação da Eficiência Operacional\n",
      "\n",
      "**Pontos Positivos:**\n",
      "- **Integração de Serviços:** A LLM habilmente integra a busca por voos e hospedagens, baseando-se nas preferências e restrições do cliente (duração da viagem, orçamento).\n",
      "- **Customização baseada em Orçamento:** A resposta considera o orçamento moderado, focando em otimizar custo-benefício, o que é crucial para a satisfação do cliente.\n",
      "- **Recomendações Específicas:** A LLM fornece recomendações específicas que facilitam a tomada de decisão pelo cliente, aumentando a eficiência da busca e reserva.\n",
      "\n",
      "#### 3ª Interação - Gerando Conteúdo Relevante\n",
      "\n",
      "Para a próxima interação, vamos explorar a capacidade da LLM de gerar conteúdo útil e relevante, como guias de viagem ou dicas específicas do destino. Isso ajudará a avaliar como a LLM contribui para o valor agregado da experiência do cliente.\n",
      "\n",
      "**Prompt 3 (simulado):**\n",
      "\"Além de voos e acomodações, você poderia me fornecer um guia rápido do que fazer em Bora Bora, incluindo atividades imperdíveis para casais?\"\n",
      "\n",
      "Esta interrogação visa entender o potencial da LLM em enriquecer a experiência do usuário com informações valiosas e personalizadas sobre atividades e atrações.\n",
      "\n",
      "Posteriormente, podemos elaborar um relatório sobre o valor baseado nesses insights simulados. E então, avançar para a fase de avaliação das possíveis vulnerabilidades e riscos associados ao uso da LLM pela empresa.\n",
      "\n",
      "Como gostaria de prosseguir?\n"
     ]
    }
   ],
   "source": [
    "messages = client.beta.threads.messages.list(\n",
    "    thread_id=thread.id\n",
    ")\n",
    "print(messages.data[0].role + \": \" + messages.data[0].content[0].text.value)"
   ]
  },
  {
   "cell_type": "code",
   "execution_count": 31,
   "id": "ee16356a-f22c-43ef-a399-9fdb93baffbd",
   "metadata": {},
   "outputs": [],
   "source": [
    "message = client.beta.threads.messages.update(\n",
    "    message_id=message.id,\n",
    "    thread_id=thread.id,\n",
    "    metadata={\n",
    "    \"modified\": \"true\",\n",
    "    \"user\": \"Claro! Em Bora Bora, vocês podem desfrutar de atividades como mergulho com snorkel para explorar a vida marinha colorida, um passeio de barco ao redor da ilha para apreciar a beleza natural, um jantar romântico em um restaurante à beira-mar, e um passeio de jet ski para uma dose de adrenalina. Não deixem de relaxar em um spa de luxo e assistir ao pôr do sol espetacular. Aproveitem ao máximo essa viagem romântica!\",\n",
    "    }\n",
    ")\n",
    "run = client.beta.threads.runs.create(\n",
    "    thread_id=thread.id,\n",
    "    assistant_id=assistant.id\n",
    ")\n",
    "run = client.beta.threads.runs.retrieve(\n",
    "    thread_id=thread.id,\n",
    "    run_id = run.id\n",
    ")"
   ]
  },
  {
   "cell_type": "code",
   "execution_count": 33,
   "id": "8193048e-2630-448f-9e37-5317c5ea7a10",
   "metadata": {},
   "outputs": [
    {
     "name": "stdout",
     "output_type": "stream",
     "text": [
      "assistant: Como estamos seguindo uma abordagem teórica, vou simular uma possível resposta para o prompt 3 e, em seguida, discutir sobre os próximos passos.\n",
      "\n",
      "### Resposta Hipotética da LLM à 3ª Interação\n",
      "\n",
      "\"Em Bora Bora, casais encontram uma variedade de atividades românticas para tornar a viagem inesquecível. Aqui estão algumas sugestões:\n",
      "1. **Passeio de Canoa ao Pôr do Sol:** Desfrute de um passeio de canoa tradicional polinésia enquanto aprecia o pôr do sol espetacular, completo com um jantar à luz de velas sobre as águas cristalinas.\n",
      "2. **Mergulho com Arraias e Tubarões:** Uma experiência de proximidade com a vida marinha em um mergulho seguro, onde você pode nadar ao lado de arraias graciosas e observar tubarões de recife.\n",
      "3. **Jantar Privativo na Praia:** Organize um jantar exclusivo na praia, sob as estrelas, com pratos locais preparados especialmente para vocês.\n",
      "4. **Passeio de Helicóptero:** Veja a beleza majestosa de Bora Bora de cima, em um passeio inesquecível de helicóptero.\n",
      "Estas são apenas algumas das inúmeras opções que Bora Bora oferece para tornar a sua estadia verdadeiramente mágica.\"\n",
      "\n",
      "### Avaliação de Geração de Conteúdo Relevante\n",
      "\n",
      "**Pontos Positivos:**\n",
      "- **Informações Detalhadas e Personalizadas:** A resposta oferece sugestões detalhadas e bem adaptadas ao perfil romântico solicitado, demonstrando uma capacidade de gerar conteúdo valioso e específico.\n",
      "- **Diversidade de Atividades:** Apresenta uma variedade de atividades, desde aventuras até experiências relaxantes e românticas, mostrando versatilidade no conteúdo gerado.\n",
      "- **Incentivo à Exploração:** Os exemplos dados estimulam os clientes a explorarem novas experiências, melhorando a percepção de valor agregado da Decolar.com na organização da viagem.\n",
      "\n",
      "### Conclusão sobre o Valor da LLM\n",
      "\n",
      "Considerando as simulações das primeiras três interações, podemos concluir que a LLM da Decolar.com demonstra um potencial significativo em fornecer valor aos seus clientes por meio de personalização, eficiência operacional e geração de conteúdo relevante. A LLM parece ser capaz de entender e incorporar complexidades de preferências pessoais em suas respostas, sugerindo recomendações valiosas que podem enriquecer a experiência de viagem.\n",
      "\n",
      "**Próximo Passo: Avaliação de Vulnerabilidades**\n",
      "\n",
      "Agora que temos uma compreensão do valor que a LLM pode entregar, podemos avançar para a fase de avaliar possíveis vulnerabilidades associadas a sua implementação.\n",
      "\n",
      "Como você gostaria de iniciar essa fase? Você tem algum ataque específico ou vetor de vulnerabilidade em mente para testarmos primeiro?\n"
     ]
    }
   ],
   "source": [
    "messages = client.beta.threads.messages.list(\n",
    "    thread_id=thread.id\n",
    ")\n",
    "print(messages.data[0].role + \": \" + messages.data[0].content[0].text.value)"
   ]
  },
  {
   "cell_type": "code",
   "execution_count": null,
   "id": "ddad83f0-152d-49f5-ac49-75af95289672",
   "metadata": {},
   "outputs": [],
   "source": []
  }
 ],
 "metadata": {
  "kernelspec": {
   "display_name": "Python 3 (ipykernel)",
   "language": "python",
   "name": "python3"
  },
  "language_info": {
   "codemirror_mode": {
    "name": "ipython",
    "version": 3
   },
   "file_extension": ".py",
   "mimetype": "text/x-python",
   "name": "python",
   "nbconvert_exporter": "python",
   "pygments_lexer": "ipython3",
   "version": "3.12.3"
  }
 },
 "nbformat": 4,
 "nbformat_minor": 5
}
